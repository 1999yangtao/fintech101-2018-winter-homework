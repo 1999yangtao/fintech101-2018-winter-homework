{
 "cells": [
  {
   "cell_type": "markdown",
   "metadata": {},
   "source": [
    "# 用python来发短信通知\n",
    "---\n",
    "\n",
    "手机，几乎是我们最常使用的与网络保持连接的设备，可以说几乎是从不离身。\n",
    "\n",
    "手机除了用于通话联系之外，还提供一种服务，就是短消息服务，也称作SMS。在手机还无法上互联网的年代，短信交流成为很多人的选择，它有助于减少电话的干扰，也有着与电子邮件类似的异步交流的特性（你可以根据你的时间来处理，而不不需要实时的，马上去做）。\n",
    "\n",
    "正是由于手机的方便性，短信服务成为一种发送通知的选择，很多时候，使用短信发送通知比选择通过电子邮件来发送消息更加有效，特别是对方可能没有互联网络连接的情况下。\n",
    "\n",
    "那使用python代码是否可以直接发送短信呢？\n",
    "\n",
    "答案当然也是肯定的。条件是：\n",
    "\n",
    "1. 你有一个手机号码；\n",
    "2. 你的手机号码开通了短信服务；\n",
    "3. 你需要一个提供短信发送的服务商；\n",
    "4. python中可以用来发送短信的模块；\n",
    "\n",
    "\n",
    "以上1和2都很容易做到，对于第3和4就要麻烦一点，因为你需要找到容易使用的短息服务商和相应的python模块。\n",
    "\n",
    "有一个免费的资源可以试用，[Twillio](https://www.twilio.com)，你可以注册申请一个免费账号，根据网站的操作，获取你的\n",
    "\n",
    "下面我们看看如何使用<mark>Twilio</mark>来实现python 发短信。\n"
   ]
  },
  {
   "cell_type": "markdown",
   "metadata": {},
   "source": [
    "**Step 1: 申请Twilio账号**\n",
    "\n",
    "你需要登录网站，去注册一个账号，它会发送一个验证码到你提供的验证用的手机号码上，如果验证码输入正确，恭喜你，你注册成功了！\n"
   ]
  },
  {
   "cell_type": "markdown",
   "metadata": {},
   "source": [
    "**Step 2: 获取你的Twilio的SID，auto_token，number**\n",
    "\n",
    "你可以申请一个使用的手机号码，用于你的试用。这个试用如果是发信息给美国的手机，是免费的，如果发送到中国，算是国际长途了，就会有一些费用（每一条大概2美分），不过，你的试用账号中Twilio提前给你预存了10+美元，基本上你可以发送500条短信，作为测试，足够了。\n",
    "\n",
    "查看你的账号SID和token：\n",
    "\n",
    "![twilio1.png](static/pic/twilio1.png)\n",
    "\n",
    "\n",
    "查看你的twilio手机号：\n",
    "![twilio2.png](static/pic/twilio2.png)"
   ]
  },
  {
   "cell_type": "markdown",
   "metadata": {},
   "source": [
    "**Step3：安装Twilio的python包**\n",
    "\n",
    "Twilio提供了python语言的开发包，方便你使用。你可以通过pip来进行安装。\n",
    "```bash\n",
    "pip install twilio\n",
    "```"
   ]
  },
  {
   "cell_type": "code",
   "execution_count": 1,
   "metadata": {},
   "outputs": [
    {
     "name": "stdout",
     "output_type": "stream",
     "text": [
      "Collecting twilio\n",
      "  Using cached https://files.pythonhosted.org/packages/f3/32/5ce94ee28ee90ad06e7e16afdb4b597b46f3c4abac375f6f9b0cca703d15/twilio-6.19.1-py2.py3-none-any.whl\n",
      "Collecting PyJWT>=1.4.2 (from twilio)\n",
      "  Using cached https://files.pythonhosted.org/packages/93/d1/3378cc8184a6524dc92993090ee8b4c03847c567e298305d6cf86987e005/PyJWT-1.6.4-py2.py3-none-any.whl\n",
      "Collecting pytz (from twilio)\n",
      "\u001b[?25l  Downloading https://files.pythonhosted.org/packages/30/4e/27c34b62430286c6d59177a0842ed90dc789ce5d1ed740887653b898779a/pytz-2018.5-py2.py3-none-any.whl (510kB)\n",
      "\u001b[K    100% |████████████████████████████████| 512kB 285kB/s ta 0:00:01\n",
      "\u001b[?25hCollecting pysocks; python_version >= \"3.0\" (from twilio)\n",
      "  Using cached https://files.pythonhosted.org/packages/53/12/6bf1d764f128636cef7408e8156b7235b150ea31650d0260969215bb8e7d/PySocks-1.6.8.tar.gz\n",
      "Requirement already satisfied: six in /Users/xubin/anaconda/envs/fintech/lib/python3.7/site-packages (from twilio) (1.11.0)\n",
      "Collecting requests>=2.0.0; python_version >= \"3.0\" (from twilio)\n",
      "  Using cached https://files.pythonhosted.org/packages/65/47/7e02164a2a3db50ed6d8a6ab1d6d60b69c4c3fdf57a284257925dfc12bda/requests-2.19.1-py2.py3-none-any.whl\n",
      "Collecting chardet<3.1.0,>=3.0.2 (from requests>=2.0.0; python_version >= \"3.0\"->twilio)\n",
      "  Using cached https://files.pythonhosted.org/packages/bc/a9/01ffebfb562e4274b6487b4bb1ddec7ca55ec7510b22e4c51f14098443b8/chardet-3.0.4-py2.py3-none-any.whl\n",
      "Collecting idna<2.8,>=2.5 (from requests>=2.0.0; python_version >= \"3.0\"->twilio)\n",
      "  Using cached https://files.pythonhosted.org/packages/4b/2a/0276479a4b3caeb8a8c1af2f8e4355746a97fab05a372e4a2c6a6b876165/idna-2.7-py2.py3-none-any.whl\n",
      "Requirement already satisfied: certifi>=2017.4.17 in /Users/xubin/anaconda/envs/fintech/lib/python3.7/site-packages (from requests>=2.0.0; python_version >= \"3.0\"->twilio) (2018.10.15)\n",
      "Collecting urllib3<1.24,>=1.21.1 (from requests>=2.0.0; python_version >= \"3.0\"->twilio)\n",
      "  Using cached https://files.pythonhosted.org/packages/bd/c9/6fdd990019071a4a32a5e7cb78a1d92c53851ef4f56f62a3486e6a7d8ffb/urllib3-1.23-py2.py3-none-any.whl\n",
      "Building wheels for collected packages: pysocks\n",
      "  Running setup.py bdist_wheel for pysocks ... \u001b[?25ldone\n",
      "\u001b[?25h  Stored in directory: /Users/xubin/Library/Caches/pip/wheels/22/5c/b5/12e0dfdfa85bea67b23628b6425fae715c687e947a45ee3df9\n",
      "Successfully built pysocks\n",
      "Installing collected packages: PyJWT, pytz, pysocks, chardet, idna, urllib3, requests, twilio\n",
      "Successfully installed PyJWT-1.6.4 chardet-3.0.4 idna-2.7 pysocks-1.6.8 pytz-2018.5 requests-2.19.1 twilio-6.19.1 urllib3-1.23\n"
     ]
    }
   ],
   "source": [
    "!pip install twilio"
   ]
  },
  {
   "cell_type": "markdown",
   "metadata": {},
   "source": [
    "当你看到这些信息，表示你已经安装成功。\n",
    "```bash\n",
    "Collecting twilio\n",
    "....\n",
    "\n",
    "Installing collected packages: PyJWT, pytz, pysocks, chardet, idna, urllib3, requests, twilio\n",
    "Successfully installed PyJWT-1.6.4 chardet-3.0.4 idna-2.7 pysocks-1.6.8 pytz-2018.5 requests-2.19.1 twilio-6.19.1 urllib3-1.23\n",
    "```"
   ]
  },
  {
   "cell_type": "markdown",
   "metadata": {},
   "source": [
    "**Step 4: 使用Twilio发送短信**\n",
    "\n",
    "万事具备，我们可以开始使用Twilio来发送短信了。\n",
    "> 由于只是试用账号，你只能发送到你用来做验证的手机号码上。\n"
   ]
  },
  {
   "cell_type": "markdown",
   "metadata": {},
   "source": [
    "设置参数，包括你的twilio账号中的<mark>SID，auto_token，number</mark>和你的<mark>手机号码</mark>。"
   ]
  },
  {
   "cell_type": "code",
   "execution_count": null,
   "metadata": {},
   "outputs": [],
   "source": [
    "def prompt(prompt):\n",
    "    return input(prompt).strip()\n",
    "\n",
    "# Your Account SID from twilio.com/console\n",
    "account_sid = prompt(\"Your account_sid: \")\n",
    "# Your Auth Token from twilio.com/console\n",
    "auth_token = prompt(\"Your auth_token: \")\n",
    "# Your phone number to receive SMS\n",
    "twilio_number = prompt(\"Your twilio phone number: \")\n",
    "# Your twilio phone number to send SMS from twilio.com/console\n",
    "your_number = prompt(\"Your phone number: \")"
   ]
  },
  {
   "cell_type": "markdown",
   "metadata": {},
   "source": [
    "有个这些信息，我们就可以开始准备发送短信到你的手机上了。"
   ]
  },
  {
   "cell_type": "markdown",
   "metadata": {},
   "source": [
    "首先我们引入twilio包，定义`sms_me`函数，方便使用。"
   ]
  },
  {
   "cell_type": "code",
   "execution_count": 18,
   "metadata": {},
   "outputs": [],
   "source": [
    "from twilio.rest import Client\n",
    "from twilio.base.exceptions import TwilioRestException\n",
    "\n",
    "def sms_me(message):\n",
    "    client = Client(account_sid, auth_token)\n",
    "    client.messages.create(\n",
    "        to=  your_number,\n",
    "        from_= twilio_number,\n",
    "        body = message\n",
    "    )"
   ]
  },
  {
   "cell_type": "markdown",
   "metadata": {},
   "source": [
    "接下来，我们就可以直接调用刚建好的`sms_me`函数来发送短信了。"
   ]
  },
  {
   "cell_type": "code",
   "execution_count": null,
   "metadata": {},
   "outputs": [],
   "source": [
    "sms=\"hello,world, sent in python.\"   # 设置你的短信息内容\n",
    "\n",
    "try:\n",
    "    sms_me(sms) \n",
    "    print(\"短信息正在发送中。\")\n",
    "except TwilioRestException as e:\n",
    "        if 'not a valid phone number' in e.msg:\n",
    "            raise InvalidPhoneNumberException(e.msg)\n",
    "        else:\n",
    "            raise\n",
    "        print(\"短信息发送失败，请检查重试。\")"
   ]
  },
  {
   "cell_type": "markdown",
   "metadata": {},
   "source": [
    "**思考**\n",
    "\n",
    "以上我们只是简单用Twilio提供的短信功能来测试了用python代码发送短信。\n",
    "\n",
    "通过这个测试，我们就可以在我们的应用中使用此功能，并可以把其模块化，便于其他应用使用。\n",
    "\n",
    "1. 如何保证我们的Twilio的账号信息的安全，有哪些方法可以使用？\n",
    "2. 如何检测收否收到短信并已经阅读？\n",
    "3. 如何将之前我们抓取的美联储的信息通过短信息发送给自己？（考虑到短信息的文字容量，你应该发送什么信息？）\n"
   ]
  }
 ],
 "metadata": {
  "kernelspec": {
   "display_name": "Python 3",
   "language": "python",
   "name": "python3"
  },
  "language_info": {
   "codemirror_mode": {
    "name": "ipython",
    "version": 3
   },
   "file_extension": ".py",
   "mimetype": "text/x-python",
   "name": "python",
   "nbconvert_exporter": "python",
   "pygments_lexer": "ipython3",
   "version": "3.6.2"
  }
 },
 "nbformat": 4,
 "nbformat_minor": 2
}
