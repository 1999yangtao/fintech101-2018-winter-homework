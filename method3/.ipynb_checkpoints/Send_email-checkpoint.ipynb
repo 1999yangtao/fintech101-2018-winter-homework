{
 "cells": [
  {
   "cell_type": "markdown",
   "metadata": {},
   "source": [
    "# 用python来发送电子邮件\n",
    "---\n",
    "\n",
    "电子邮件是互联网上最为常见的一种服务，它也是我们工作的一个重要工具，常常作为我们工作流程的一个部分。\n",
    "\n",
    "我们处理电子邮件最为常见的是通过网页登录到邮件服务器上去查看邮件，或者使用在电脑上、手机上的邮件程序来收发处理我们的邮件。\n",
    "\n",
    "那我们是否可以通过python代码来实现邮件的收发呢？\n",
    "\n",
    "答案是可以的。\n",
    "\n",
    "我们可以直接使用python代码来发送邮件，但我们需要一些条件，这些条件包括：\n",
    "\n",
    "* 需要邮件服务器的SMTP服务地址、服务端口号\n",
    "* 需要我们的电子邮件地址和密码\n",
    "* 需要用于发送邮件的python包（模块）\n",
    "\n",
    "> SMTP（Simple Mail Transfer Protocol）即简单邮件传输协议,它是一组用于由源地址到目的地址传送邮件的规则，由它来控制信件的中转方式。\n",
    "python的smtplib提供了一种很方便的途径发送电子邮件。它对smtp协议进行了简单的封装。\n",
    "\n",
    "\n",
    "当然，我们还需要有网络连接，可以连接到互联网上。\n",
    "\n",
    "下面我们就简单介绍一下通过python来发送电子邮件的方法和步骤。\n"
   ]
  },
  {
   "cell_type": "markdown",
   "metadata": {},
   "source": [
    "**Step 1: 基本准备工作**  \n",
    "\n",
    "我们首先引入<mark>smtplib</mark>库，这是用于使用SMTP来发送邮件的库。\n",
    "\n",
    "> 有关<mark>smtplib</mark>的使用，可以参考https://docs.python.org/3/library/smtplib.html 或者https://docs.python.org/3/library/smtplib.html。"
   ]
  },
  {
   "cell_type": "code",
   "execution_count": 25,
   "metadata": {},
   "outputs": [],
   "source": [
    "import smtplib"
   ]
  },
  {
   "cell_type": "markdown",
   "metadata": {},
   "source": [
    "接下来，我们需要设置有关你的邮件服务器上<mark>SMTP</mark>服务器地址、端口以及你的邮件账号等基本信息。\n",
    "\n",
    "**Tips:**\n",
    "> 从安全角度考虑，你应该另外建立一个用于存储这些敏感信息的文件，让这个文件对于普通用户是不可读的；或者，你也可以把这些基本配置作为环境变量来设置，这样只能是你运行程序的本机可以读取这些信息，这样也减少了信息泄漏或被人窃取的风险。"
   ]
  },
  {
   "cell_type": "code",
   "execution_count": 26,
   "metadata": {},
   "outputs": [],
   "source": [
    "_SMTP = \"smtp.139.com\"  # 设置邮件服务器\n",
    "_SMTP_port = 25 # no SSL\n",
    "_SMTP_port_ssl = 465\n",
    "\n",
    "_email = \"13981780213@139.com\"  # 输入发件的邮件地址 "
   ]
  },
  {
   "cell_type": "markdown",
   "metadata": {},
   "source": [
    "**Step 2: 连接并登录SMTP服务器**  \n",
    "\n",
    "我们有了这些基本信息，就可以开始用`smtplib`的函数🔗服务器，并把这个连接作为一个对象用于后面的工作。我们通过`ehlo()`测试与服务器的通信是否正常。如果运行正常，我们将得到一个250的反馈的信息，如下：\n",
    "```bash\n",
    "(250,\n",
    " b'mail\\nX-PART\\nPIPELINING\\nAUTH LOGIN PLAIN\\nAUTH=LOGIN PLAIN\\n8BITMIME')\n",
    "```\n",
    "如果有错误，比如服务器地址错误等，将返回错误信息，比如：\n",
    "```bash\n",
    "...\n",
    "[Errno 8] nodename nor servname provided, or not known\n",
    "```\n",
    "\n"
   ]
  },
  {
   "cell_type": "code",
   "execution_count": 27,
   "metadata": {},
   "outputs": [
    {
     "data": {
      "text/plain": [
       "(250,\n",
       " b'mail\\nX-PART\\nPIPELINING\\nAUTH LOGIN PLAIN\\nAUTH=LOGIN PLAIN\\n8BITMIME')"
      ]
     },
     "execution_count": 27,
     "metadata": {},
     "output_type": "execute_result"
    }
   ],
   "source": [
    "smtpobj = smtplib.SMTP_SSL(_SMTP,_SMTP_port_ssl)\n",
    "smtpobj.ehlo()"
   ]
  },
  {
   "cell_type": "code",
   "execution_count": null,
   "metadata": {},
   "outputs": [],
   "source": [
    "# if ssl_port is 465, no need this.\n",
    "smtpobj.starttls()"
   ]
  },
  {
   "cell_type": "markdown",
   "metadata": {},
   "source": [
    "为了我们的安全，我们通过`imput`来输入你的邮件密码。当然，这并不是安全的做法，这只是简单地不把密码放在文件中的一种临时方法。"
   ]
  },
  {
   "cell_type": "code",
   "execution_count": null,
   "metadata": {},
   "outputs": [],
   "source": [
    "_password = input(\"your email password: \")"
   ]
  },
  {
   "cell_type": "markdown",
   "metadata": {},
   "source": [
    "到现在为止，我们已经有了邮件账号，邮件密码，可以开始登录邮件服务器。我们利用建立的对象的`login`来登录。如果邮件地址和密码是正确的，则返回一个235代表登录成功。如下：\n",
    "```bash\n",
    "(235, b'Authentication successful')\n",
    "```\n",
    "如果有错误，将返回错误信息，比如\n",
    "```bash\n",
    "(503, b'Bad sequence of commands')\n",
    "```"
   ]
  },
  {
   "cell_type": "code",
   "execution_count": 28,
   "metadata": {},
   "outputs": [
    {
     "data": {
      "text/plain": [
       "(235, b'Authentication successful')"
      ]
     },
     "execution_count": 28,
     "metadata": {},
     "output_type": "execute_result"
    }
   ],
   "source": [
    "smtpobj.login('13981780213@139.com',_password)"
   ]
  },
  {
   "cell_type": "markdown",
   "metadata": {},
   "source": [
    "**Step3： 准备发送邮件**\n",
    "\n",
    "我们已经成功登录到SMTP服务器上，现在我们就可以准备利用SMTP的服务来发送邮件。\n",
    "\n",
    "* 利用`sendmail`来发送邮件；\n",
    "* 格式：sendmail('发送者邮箱'，'接收者邮箱','邮件标题和正文')\n",
    "* 邮件标题和正文部分，需要注意如果有标题，标题结束需要使用`\\n`来表示结束。\n",
    "   \n",
    "如果邮件发送正常，则返回一个空的 `{}` 。   \n",
    "\n",
    "如果邮件发送不正常，则会返回错误信息，比如：\n",
    "```bash\n",
    "SMTPServerDisconnected: Connection unexpectedly closed\n",
    "```\n",
    "或者如下等等\n",
    "```\n",
    "SMTPSenderRefused: (553, b'2f0f5bc5f516a71-8ac50 authentication is required', '13981780213@139.com')\n",
    "...\n",
    "\n",
    "SMTPDataError: (450, b'2f0f5bc5f516a71-8ac96 Mail rejected, please try again')\n",
    "```\n"
   ]
  },
  {
   "cell_type": "code",
   "execution_count": 30,
   "metadata": {},
   "outputs": [
    {
     "name": "stdout",
     "output_type": "stream",
     "text": [
      "Successfully sent email\n"
     ]
    }
   ],
   "source": [
    "from_addr = '13981780213@139.com'\n",
    "to_addrs = '389376664@qq.com'\n",
    "msg = \"\"\"Subject: Hello, world by sent email in python\\nDear Xubin,\\nLong time no see.\\nBest,\\nBen\"\"\"\n",
    "\n",
    "try:\n",
    "    smtpobj.sendmail(from_addr,to_addrs,msg)\n",
    "    print(\"Successfully sent email\")\n",
    "except SMTPException:\n",
    "    print(\"Error: unable to send email\")"
   ]
  },
  {
   "cell_type": "markdown",
   "metadata": {},
   "source": [
    "**Step4: 发送邮件结束**\n",
    "\n",
    "邮件发送完毕之后，我们需要注意断开与SMTP服务的连接。\n",
    "\n",
    "* 使用`close()`来实现\n"
   ]
  },
  {
   "cell_type": "code",
   "execution_count": 31,
   "metadata": {},
   "outputs": [],
   "source": [
    "smtpobj.close()"
   ]
  },
  {
   "cell_type": "markdown",
   "metadata": {},
   "source": [
    "**思考：**\n",
    "\n",
    "以上是我们使用python来发送邮件的基本步骤和方法，这只是一个非常基本的流程，我们没有考虑更多的细节，比如，如何保证SMTP服务的信息安全，如果SMTP的服务器采用的SSL加密端口不是<mark>465</mark>怎么处理？（需要使用`starttls()`），如何测试我们的邮件发送是否正常？如何发送HTML格式的邮件，如何发送有附件的邮件等等，这有待于我们进一步地去学习和完善。比如：\n",
    "\n",
    "1. 我们需要考虑邮件发送时出错信息的处理，让代码更加稳定，需要如何来处理错误信息？\n",
    "2. 如果发送邮件功能常常用到，我们收否可以将这个工作模块化，让工作更加有效率？\n",
    "3. 如何来保护我们的SMTP服务器的地址、端口以及我们邮件地址、密码的安全性？有哪些方法？\n",
    "4. 根据我们抓取的美联储信息，我们如何设置通过邮件服务器将信息自动发邮件给自己？\n"
   ]
  },
  {
   "cell_type": "code",
   "execution_count": null,
   "metadata": {},
   "outputs": [],
   "source": []
  }
 ],
 "metadata": {
  "kernelspec": {
   "display_name": "Python 3",
   "language": "python",
   "name": "python3"
  },
  "language_info": {
   "codemirror_mode": {
    "name": "ipython",
    "version": 3
   },
   "file_extension": ".py",
   "mimetype": "text/x-python",
   "name": "python",
   "nbconvert_exporter": "python",
   "pygments_lexer": "ipython3",
   "version": "3.6.2"
  }
 },
 "nbformat": 4,
 "nbformat_minor": 2
}
